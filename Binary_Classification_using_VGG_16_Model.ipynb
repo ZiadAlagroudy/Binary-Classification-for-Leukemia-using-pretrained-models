{
  "metadata": {
    "kernelspec": {
      "language": "python",
      "display_name": "Python 3",
      "name": "python3"
    },
    "language_info": {
      "name": "python",
      "version": "3.7.12",
      "mimetype": "text/x-python",
      "codemirror_mode": {
        "name": "ipython",
        "version": 3
      },
      "pygments_lexer": "ipython3",
      "nbconvert_exporter": "python",
      "file_extension": ".py"
    },
    "colab": {
      "provenance": [],
      "include_colab_link": true
    }
  },
  "nbformat_minor": 0,
  "nbformat": 4,
  "cells": [
    {
      "cell_type": "markdown",
      "metadata": {
        "id": "view-in-github",
        "colab_type": "text"
      },
      "source": [
        "<a href=\"https://colab.research.google.com/github/ZiadAlagroudy/Binary-Classification-for-Leukemia-using-pretrained-models/blob/main/Binary_Classification_using_VGG_16_Model.ipynb\" target=\"_parent\"><img src=\"https://colab.research.google.com/assets/colab-badge.svg\" alt=\"Open In Colab\"/></a>"
      ]
    },
    {
      "cell_type": "code",
      "source": [
        "# This Python 3 environment comes with many helpful analytics libraries installed\n",
        "# It is defined by the kaggle/python Docker image: https://github.com/kaggle/docker-python\n",
        "# For example, here's several helpful packages to load\n",
        "\n",
        "import numpy as np # linear algebra\n",
        "import pandas as pd # data processing, CSV file I/O (e.g. pd.read_csv)\n",
        "\n",
        "# Input data files are available in the read-only \"../input/\" directory\n",
        "# For example, running this (by clicking run or pressing Shift+Enter) will list all files under the input directory\n",
        "\n",
        "import os\n",
        "import numpy\n",
        "import numpy as np\n",
        "import pandas as pd\n",
        "import matplotlib.pyplot as plt\n",
        "import os\n",
        "import cv2\n",
        "import shutil\n",
        "import glob\n",
        "import random\n",
        "import tensorflow as tf\n",
        "from tensorflow.keras.preprocessing.image import load_img\n",
        "from tensorflow.keras.preprocessing.image import img_to_array\n",
        "from tensorflow.keras.datasets import cifar10\n",
        "from tensorflow.keras.preprocessing.image import ImageDataGenerator\n",
        "from tensorflow.keras.models import Sequential\n",
        "from tensorflow.keras.layers import Dense, Dropout, Activation, Flatten\n",
        "from tensorflow.keras.layers import Conv2D, MaxPooling2D ,BatchNormalization,GlobalAveragePooling2D\n",
        "from tensorflow.keras.optimizers import Adam\n",
        "from tensorflow.keras.losses import binary_crossentropy\n",
        "from tensorflow.keras import regularizers\n",
        "from keras.callbacks import ReduceLROnPlateau\n",
        "from tensorflow.keras.applications.mobilenet import MobileNet, preprocess_input\n",
        "from keras.applications.vgg16 import VGG16, preprocess_input\n",
        "from keras.preprocessing.image import ImageDataGenerator\n",
        "from keras.callbacks import ModelCheckpoint, EarlyStopping\n",
        "from pathlib import Path\n",
        "from tensorflow.keras.models import Model\n",
        "from sklearn.metrics import confusion_matrix\n",
        "from sklearn.model_selection import train_test_split\n",
        "import itertools\n",
        "import warnings\n",
        "warnings.filterwarnings('ignore')\n"
      ],
      "metadata": {
        "execution": {
          "iopub.status.busy": "2022-12-20T21:12:07.372786Z",
          "iopub.execute_input": "2022-12-20T21:12:07.373229Z",
          "iopub.status.idle": "2022-12-20T21:12:13.612131Z",
          "shell.execute_reply.started": "2022-12-20T21:12:07.373148Z",
          "shell.execute_reply": "2022-12-20T21:12:13.610914Z"
        },
        "trusted": true,
        "id": "3VXzPM9Keo20"
      },
      "execution_count": null,
      "outputs": []
    },
    {
      "cell_type": "markdown",
      "source": [
        "Loading all the photos from deffierent paths"
      ],
      "metadata": {
        "id": "9ueRSZ7oeo22"
      }
    },
    {
      "cell_type": "code",
      "source": [
        "def get_path_image(folder):\n",
        "    image_paths = []\n",
        "    image_fnames = os.listdir(folder) \n",
        "    for img_id in range(len(image_fnames)):\n",
        "        img = os.path.join(folder,image_fnames[img_id])\n",
        "        image_paths.append(img)\n",
        "    \n",
        "    return image_paths"
      ],
      "metadata": {
        "execution": {
          "iopub.status.busy": "2022-12-20T21:12:13.614129Z",
          "iopub.execute_input": "2022-12-20T21:12:13.614798Z",
          "iopub.status.idle": "2022-12-20T21:12:13.625987Z",
          "shell.execute_reply.started": "2022-12-20T21:12:13.614763Z",
          "shell.execute_reply": "2022-12-20T21:12:13.624513Z"
        },
        "trusted": true,
        "id": "gdC0HiH7eo23"
      },
      "execution_count": null,
      "outputs": []
    },
    {
      "cell_type": "code",
      "source": [
        "all_0 = \"/kaggle/input/leukemia-classification/C-NMC_Leukemia/training_data/fold_0/all\"\n",
        "all_1 = \"/kaggle/input/leukemia-classification/C-NMC_Leukemia/training_data/fold_1/all\"\n",
        "all_2 = \"/kaggle/input/leukemia-classification/C-NMC_Leukemia/training_data/fold_2/all\"\n",
        "\n",
        "hem_0 = \"/kaggle/input/leukemia-classification/C-NMC_Leukemia/training_data/fold_0/hem\"\n",
        "hem_1 = \"/kaggle/input/leukemia-classification/C-NMC_Leukemia/training_data/fold_1/hem\"\n",
        "hem_2 = \"/kaggle/input/leukemia-classification/C-NMC_Leukemia/training_data/fold_2/hem\"\n",
        "path_val ='/kaggle/input/leukemia-classification/C-NMC_Leukemia/validation_data/C-NMC_test_prelim_phase_data'\n",
        "val_labels = pd.read_csv('/kaggle/input/leukemia-classification/C-NMC_Leukemia/validation_data/C-NMC_test_prelim_phase_data_labels.csv')\n",
        "test_data = '/kaggle/input/leukemia-classification/C-NMC_Leukemia/testing_data/C-NMC_test_final_phase_data'\n",
        "test_list = get_path_image(test_data)\n",
        "\n",
        "test_dict = {\"x_col\":test_list}\n",
        "\n",
        "test_df = pd.DataFrame(test_dict)"
      ],
      "metadata": {
        "execution": {
          "iopub.status.busy": "2022-12-20T21:12:13.628651Z",
          "iopub.execute_input": "2022-12-20T21:12:13.629571Z",
          "iopub.status.idle": "2022-12-20T21:12:16.952907Z",
          "shell.execute_reply.started": "2022-12-20T21:12:13.629509Z",
          "shell.execute_reply": "2022-12-20T21:12:16.951909Z"
        },
        "trusted": true,
        "id": "i_IhGNsYeo23"
      },
      "execution_count": null,
      "outputs": []
    },
    {
      "cell_type": "code",
      "source": [
        "a_image_fnames = os.listdir(hem_1)\n",
        "cancer_img = cv2.imread(os.path.join(hem_1,a_image_fnames[100]))\n",
        "plt.imshow(cancer_img)\n",
        "plt.title('Normal')\n",
        "plt.show()"
      ],
      "metadata": {
        "execution": {
          "iopub.status.busy": "2022-12-20T21:12:16.955736Z",
          "iopub.execute_input": "2022-12-20T21:12:16.956451Z",
          "iopub.status.idle": "2022-12-20T21:12:19.942854Z",
          "shell.execute_reply.started": "2022-12-20T21:12:16.956396Z",
          "shell.execute_reply": "2022-12-20T21:12:19.941879Z"
        },
        "trusted": true,
        "id": "OOIBYaRDeo24",
        "outputId": "f7c8690c-898b-4e0a-a899-5d78db9cafdb"
      },
      "execution_count": null,
      "outputs": [
        {
          "output_type": "display_data",
          "data": {
            "text/plain": "<Figure size 432x288 with 1 Axes>",
            "image/png": "[encoded data removed]"
          },
          "metadata": {
            "needs_background": "light"
          }
        }
      ]
    },
    {
      "cell_type": "code",
      "source": [
        "h_image_fnames = os.listdir(all_2)\n",
        "h_img = cv2.imread(os.path.join(all_2,h_image_fnames[5]))\n",
        "plt.imshow(h_img)\n",
        "plt.title('Cancer')\n",
        "plt.show()"
      ],
      "metadata": {
        "execution": {
          "iopub.status.busy": "2022-12-20T21:12:19.944475Z",
          "iopub.execute_input": "2022-12-20T21:12:19.945163Z",
          "iopub.status.idle": "2022-12-20T21:12:22.510892Z",
          "shell.execute_reply.started": "2022-12-20T21:12:19.945114Z",
          "shell.execute_reply": "2022-12-20T21:12:22.509890Z"
        },
        "trusted": true,
        "id": "MgWvPLHKeo25",
        "outputId": "87b4102c-6d05-48aa-a4ab-67441c8b0c98"
      },
      "execution_count": null,
      "outputs": [
        {
          "output_type": "display_data",
          "data": {
            "text/plain": "<Figure size 432x288 with 1 Axes>",
            "image/png": "[encoded data removed]"
          },
          "metadata": {
            "needs_background": "light"
          }
        }
      ]
    },
    {
      "cell_type": "code",
      "source": [
        "cancer_lst = []\n",
        "\n",
        "for i in [all_0,all_1,all_2]:\n",
        "    paths = get_path_image(i)\n",
        "    cancer_lst.extend(paths)\n",
        "print('No. of cancer images:', len(cancer_lst))\n",
        "\n",
        "normal_lst = []\n",
        "for i in [hem_0,hem_1,hem_2]:\n",
        "    paths = get_path_image(i)\n",
        "    normal_lst.extend(paths)\n",
        "print('No. of normal images:', len(normal_lst))"
      ],
      "metadata": {
        "execution": {
          "iopub.status.busy": "2022-12-20T21:12:22.512451Z",
          "iopub.execute_input": "2022-12-20T21:12:22.513108Z",
          "iopub.status.idle": "2022-12-20T21:12:33.317919Z",
          "shell.execute_reply.started": "2022-12-20T21:12:22.513069Z",
          "shell.execute_reply": "2022-12-20T21:12:33.316846Z"
        },
        "trusted": true,
        "id": "c5lGuwCJeo25",
        "outputId": "3b8ad0de-fb16-4423-f2ee-02100cfc1934"
      },
      "execution_count": null,
      "outputs": [
        {
          "name": "stdout",
          "text": "No. of cancer images: 7272\nNo. of normal images: 3389\n",
          "output_type": "stream"
        }
      ]
    },
    {
      "cell_type": "code",
      "source": [
        "cancer_dict = {\"x_col\":cancer_lst, \"y_col\":[np.nan for x in range(len(cancer_lst))]}\n",
        "cancer_dict[\"y_col\"] = \"ALL\"\n",
        "\n",
        "normal_dict = {\"x_col\":normal_lst, \"y_col\":[np.nan for x in range(len(normal_lst))]}\n",
        "normal_dict[\"y_col\"] = \"HEM\"\n",
        "\n",
        "\n",
        "cancer_df = pd.DataFrame(cancer_dict)\n",
        "normal_df = pd.DataFrame(normal_dict)\n",
        "\n",
        "train_df = cancer_df.append(normal_df, ignore_index=True)\n",
        "\n",
        "plt.pie([len(cancer_lst),len(normal_lst)],labels=[\"Cancer\",\"Normal\"],autopct='%.f')\n",
        "plt.title('Pie Chart for percentage of each cell type')\n",
        "plt.show()"
      ],
      "metadata": {
        "execution": {
          "iopub.status.busy": "2022-12-20T21:12:33.319538Z",
          "iopub.execute_input": "2022-12-20T21:12:33.320263Z",
          "iopub.status.idle": "2022-12-20T21:12:33.433584Z",
          "shell.execute_reply.started": "2022-12-20T21:12:33.320220Z",
          "shell.execute_reply": "2022-12-20T21:12:33.431862Z"
        },
        "trusted": true,
        "id": "NCpZNFs3eo26",
        "outputId": "f24aaf53-286b-49bf-c132-8826ccaec313"
      },
      "execution_count": null,
      "outputs": [
        {
          "output_type": "display_data",
          "data": {
            "text/plain": "<Figure size 432x288 with 1 Axes>",
            "image/png": "[encoded data removed]"
          },
          "metadata": {}
        }
      ]
    },
    {
      "cell_type": "code",
      "source": [
        "#Reading the validation data\n",
        "validation_list = get_path_image(path_val)\n",
        "print(path_val)\n",
        "\n",
        "##Convert the list to a dictionary. The labels are stored in the val_labels\n",
        "#3So we create a dictionary with x as the file name and y as the labels\n",
        "##The labels are having 0's and 1's.\n",
        "##0 means normal and 1 means cancer - ALL\n",
        "\n",
        "validation_dict = {\"x_col\":validation_list ,\"y_col\":val_labels[\"labels\"]}\n",
        "\n",
        "validation_df = pd.DataFrame(validation_dict)\n",
        "\n",
        "validation_df[\"y_col\"].replace(to_replace = [1,0], value = [\"ALL\",\"HEM\"], inplace = True)"
      ],
      "metadata": {
        "execution": {
          "iopub.status.busy": "2022-12-20T21:12:33.435485Z",
          "iopub.execute_input": "2022-12-20T21:12:33.436221Z",
          "iopub.status.idle": "2022-12-20T21:12:36.772235Z",
          "shell.execute_reply.started": "2022-12-20T21:12:33.436181Z",
          "shell.execute_reply": "2022-12-20T21:12:36.771165Z"
        },
        "trusted": true,
        "id": "i9-oD3ODeo26",
        "outputId": "2e3eb05e-e11a-4bc4-ec39-4b77f1680619"
      },
      "execution_count": null,
      "outputs": [
        {
          "name": "stdout",
          "text": "/kaggle/input/leukemia-classification/C-NMC_Leukemia/validation_data/C-NMC_test_prelim_phase_data\n",
          "output_type": "stream"
        }
      ]
    },
    {
      "cell_type": "code",
      "source": [
        "test_data = '../input/leukemia-classification/C-NMC_Leukemia/testing_data/C-NMC_test_final_phase_data'\n",
        "test_list = get_path_image(test_data)\n",
        "\n",
        "test_dict = {\"x_col\":test_list}\n",
        "\n",
        "test_df = pd.DataFrame(test_dict)"
      ],
      "metadata": {
        "execution": {
          "iopub.status.busy": "2022-12-20T21:12:36.773821Z",
          "iopub.execute_input": "2022-12-20T21:12:36.774552Z",
          "iopub.status.idle": "2022-12-20T21:12:36.787001Z",
          "shell.execute_reply.started": "2022-12-20T21:12:36.774511Z",
          "shell.execute_reply": "2022-12-20T21:12:36.786013Z"
        },
        "trusted": true,
        "id": "oUBrQ2ireo27"
      },
      "execution_count": null,
      "outputs": []
    },
    {
      "cell_type": "code",
      "source": [
        "train_datagen = ImageDataGenerator(rescale=1/255)\n",
        "train_generator = train_datagen.flow_from_dataframe(\n",
        "                  train_df,\n",
        "                  x_col = \"x_col\",\n",
        "                  y_col = \"y_col\",\n",
        "                  target_size = (450, 450),\n",
        "                 \n",
        "                  batch_size = 32,\n",
        "                  color_mode = \"rgb\",\n",
        "                  class_mode = \"binary\"\n",
        ")"
      ],
      "metadata": {
        "execution": {
          "iopub.status.busy": "2022-12-20T21:13:11.126704Z",
          "iopub.execute_input": "2022-12-20T21:13:11.127121Z",
          "iopub.status.idle": "2022-12-20T21:14:23.924809Z",
          "shell.execute_reply.started": "2022-12-20T21:13:11.127087Z",
          "shell.execute_reply": "2022-12-20T21:14:23.923702Z"
        },
        "trusted": true,
        "id": "wjerAk7Oeo27",
        "outputId": "f2f3b4af-cf1d-461b-b00d-be6779c80586"
      },
      "execution_count": null,
      "outputs": [
        {
          "name": "stdout",
          "text": "Found 10661 validated image filenames belonging to 2 classes.\n",
          "output_type": "stream"
        }
      ]
    },
    {
      "cell_type": "code",
      "source": [
        "val_datagen = ImageDataGenerator(rescale=1/255)\n",
        "validation_generator = val_datagen.flow_from_dataframe(\n",
        "                  validation_df,\n",
        "                  x_col = \"x_col\",\n",
        "                  y_col = \"y_col\",\n",
        "                  target_size = (450, 450),                  \n",
        "                  batch_size = 32,\n",
        "                  color_mode = \"rgb\",\n",
        "                  class_mode = \"binary\")"
      ],
      "metadata": {
        "execution": {
          "iopub.status.busy": "2022-12-20T21:14:49.774143Z",
          "iopub.execute_input": "2022-12-20T21:14:49.774776Z",
          "iopub.status.idle": "2022-12-20T21:15:02.089896Z",
          "shell.execute_reply.started": "2022-12-20T21:14:49.774731Z",
          "shell.execute_reply": "2022-12-20T21:15:02.088805Z"
        },
        "trusted": true,
        "id": "_nXqIaMFeo27",
        "outputId": "62279f5d-3567-441e-9165-98bff7f708ce"
      },
      "execution_count": null,
      "outputs": [
        {
          "name": "stdout",
          "text": "Found 1867 validated image filenames belonging to 2 classes.\n",
          "output_type": "stream"
        }
      ]
    },
    {
      "cell_type": "code",
      "source": [
        "test_datagen = ImageDataGenerator(rescale=1/255 )\n",
        "test_generator = test_datagen.flow_from_dataframe(\n",
        "                  test_df,\n",
        "                  x_col = \"x_col\",\n",
        "                  target_size = (450, 450),\n",
        "                  color_mode = \"rgb\",\n",
        "                  class_mode = None,\n",
        "                  shuffle = False\n",
        ")"
      ],
      "metadata": {
        "execution": {
          "iopub.status.busy": "2022-12-20T21:14:23.926707Z",
          "iopub.execute_input": "2022-12-20T21:14:23.927764Z",
          "iopub.status.idle": "2022-12-20T21:14:49.771144Z",
          "shell.execute_reply.started": "2022-12-20T21:14:23.927720Z",
          "shell.execute_reply": "2022-12-20T21:14:49.770047Z"
        },
        "trusted": true,
        "id": "_K69STTPeo28",
        "outputId": "f616d4ef-308c-477c-fdc3-864208ace522"
      },
      "execution_count": null,
      "outputs": [
        {
          "name": "stdout",
          "text": "Found 2586 validated image filenames.\n",
          "output_type": "stream"
        }
      ]
    },
    {
      "cell_type": "markdown",
      "source": [
        "**MobileNet**"
      ],
      "metadata": {
        "id": "xjYBvl3beo29"
      }
    },
    {
      "cell_type": "code",
      "source": [
        "MN=MobileNet(input_shape=(450,450,3),include_top=False)"
      ],
      "metadata": {
        "execution": {
          "iopub.status.busy": "2022-12-20T21:22:14.133039Z",
          "iopub.execute_input": "2022-12-20T21:22:14.133723Z",
          "iopub.status.idle": "2022-12-20T21:22:14.874228Z",
          "shell.execute_reply.started": "2022-12-20T21:22:14.133686Z",
          "shell.execute_reply": "2022-12-20T21:22:14.873209Z"
        },
        "trusted": true,
        "id": "kZhvuAMVeo29",
        "outputId": "797c74ac-0b89-4634-ed26-9298a4d9188b"
      },
      "execution_count": null,
      "outputs": [
        {
          "name": "stdout",
          "text": "Downloading data from https://storage.googleapis.com/tensorflow/keras-applications/mobilenet/mobilenet_1_0_224_tf_no_top.h5\n17227776/17225924 [==============================] - 0s 0us/step\n17235968/17225924 [==============================] - 0s 0us/step\n",
          "output_type": "stream"
        }
      ]
    },
    {
      "cell_type": "code",
      "source": [
        "for layers in MN.layers:\n",
        "    layers.trainable=False"
      ],
      "metadata": {
        "execution": {
          "iopub.status.busy": "2022-12-20T21:22:17.001841Z",
          "iopub.execute_input": "2022-12-20T21:22:17.002584Z",
          "iopub.status.idle": "2022-12-20T21:22:17.010148Z",
          "shell.execute_reply.started": "2022-12-20T21:22:17.002546Z",
          "shell.execute_reply": "2022-12-20T21:22:17.009047Z"
        },
        "trusted": true,
        "id": "geqNU26Feo29"
      },
      "execution_count": null,
      "outputs": []
    },
    {
      "cell_type": "code",
      "source": [
        "out= Flatten()(MN.output)\n",
        "out=Dense(2,activation='sigmoid')(out)"
      ],
      "metadata": {
        "execution": {
          "iopub.status.busy": "2022-12-20T21:22:22.931720Z",
          "iopub.execute_input": "2022-12-20T21:22:22.932130Z",
          "iopub.status.idle": "2022-12-20T21:22:22.950577Z",
          "shell.execute_reply.started": "2022-12-20T21:22:22.932086Z",
          "shell.execute_reply": "2022-12-20T21:22:22.949459Z"
        },
        "trusted": true,
        "id": "IKOErTNLeo2-"
      },
      "execution_count": null,
      "outputs": []
    },
    {
      "cell_type": "code",
      "source": [
        "model=Model(inputs=MN.input,outputs=out)"
      ],
      "metadata": {
        "execution": {
          "iopub.status.busy": "2022-12-20T21:22:25.450460Z",
          "iopub.execute_input": "2022-12-20T21:22:25.450850Z",
          "iopub.status.idle": "2022-12-20T21:22:25.465577Z",
          "shell.execute_reply.started": "2022-12-20T21:22:25.450816Z",
          "shell.execute_reply": "2022-12-20T21:22:25.464635Z"
        },
        "trusted": true,
        "id": "HDXJixyZeo2-"
      },
      "execution_count": null,
      "outputs": []
    },
    {
      "cell_type": "markdown",
      "source": [
        "**Sequential**"
      ],
      "metadata": {
        "id": "L53JE86Qeo2-"
      }
    },
    {
      "cell_type": "code",
      "source": [
        "model =  Sequential(\n",
        "    [\n",
        "        Conv2D(filters = 16,kernel_size=(3,3),activation='relu',input_shape=(450,450,3)),\n",
        "        Conv2D(filters = 36,kernel_size=(3,3),activation='relu'),\n",
        "        MaxPooling2D(pool_size=(2,2)),\n",
        "        Conv2D(filters = 64,kernel_size=(3,3),activation='relu'),\n",
        "        MaxPooling2D(pool_size=(2,2)),\n",
        "        Conv2D(filters = 128,kernel_size=(3,3),activation='relu'),\n",
        "        MaxPooling2D(pool_size=(2,2)),\n",
        "        Dropout(rate=0.25),\n",
        "        Flatten(),\n",
        "        Dense(64, activation=\"relu\"),\n",
        "        Dropout(rate=0.25),\n",
        "        Dense(2 , activation= 'sigmoid')\n",
        "    ], name=\"Complex\"\n",
        ")"
      ],
      "metadata": {
        "execution": {
          "iopub.status.busy": "2022-12-20T21:24:57.475651Z",
          "iopub.execute_input": "2022-12-20T21:24:57.476098Z",
          "iopub.status.idle": "2022-12-20T21:24:57.604849Z",
          "shell.execute_reply.started": "2022-12-20T21:24:57.476044Z",
          "shell.execute_reply": "2022-12-20T21:24:57.603631Z"
        },
        "trusted": true,
        "id": "CTJPT1pFeo2-"
      },
      "execution_count": null,
      "outputs": []
    },
    {
      "cell_type": "code",
      "source": [
        "\n",
        "es = EarlyStopping(monitor=\"val_accuracy\",min_delta=0.01,patience=8,verbose=1,mode='max')\n",
        "mc = ModelCheckpoint(monitor=\"val_accuracy\",filepath=\"mymodel.h5\",save_best_only=True,verbose=1,mode='max') \n",
        "cd=[es,mc] "
      ],
      "metadata": {
        "execution": {
          "iopub.status.busy": "2022-12-20T21:25:04.312482Z",
          "iopub.execute_input": "2022-12-20T21:25:04.312901Z",
          "iopub.status.idle": "2022-12-20T21:25:04.319161Z",
          "shell.execute_reply.started": "2022-12-20T21:25:04.312867Z",
          "shell.execute_reply": "2022-12-20T21:25:04.317790Z"
        },
        "trusted": true,
        "id": "Cj40FbaJeo2_"
      },
      "execution_count": null,
      "outputs": []
    },
    {
      "cell_type": "code",
      "source": [
        "model.compile(\n",
        "    loss=binary_crossentropy,\n",
        "    metrics=['accuracy'],\n",
        "    optimizer=Adam(0.001)\n",
        "\n",
        ")"
      ],
      "metadata": {
        "execution": {
          "iopub.status.busy": "2022-12-20T21:25:06.145485Z",
          "iopub.execute_input": "2022-12-20T21:25:06.145839Z",
          "iopub.status.idle": "2022-12-20T21:25:06.156649Z",
          "shell.execute_reply.started": "2022-12-20T21:25:06.145809Z",
          "shell.execute_reply": "2022-12-20T21:25:06.155583Z"
        },
        "trusted": true,
        "id": "DMechlKkeo2_"
      },
      "execution_count": null,
      "outputs": []
    },
    {
      "cell_type": "markdown",
      "source": [
        "**VGG16**"
      ],
      "metadata": {
        "id": "iPe66wvgeo2_"
      }
    },
    {
      "cell_type": "code",
      "source": [
        "vgg_model = VGG16(weights='imagenet', include_top=False, input_shape=(450, 450, 3))"
      ],
      "metadata": {
        "execution": {
          "iopub.status.busy": "2022-12-20T21:15:02.092862Z",
          "iopub.execute_input": "2022-12-20T21:15:02.093694Z",
          "iopub.status.idle": "2022-12-20T21:15:06.168045Z",
          "shell.execute_reply.started": "2022-12-20T21:15:02.093647Z",
          "shell.execute_reply": "2022-12-20T21:15:06.166953Z"
        },
        "trusted": true,
        "id": "bhhAtX4Aeo3A",
        "outputId": "2fb758d8-c5d0-4fce-ef16-53e72ff31555"
      },
      "execution_count": null,
      "outputs": [
        {
          "name": "stderr",
          "text": "2022-12-20 21:15:02.205863: I tensorflow/stream_executor/cuda/cuda_gpu_executor.cc:937] successful NUMA node read from SysFS had negative value (-1), but there must be at least one NUMA node, so returning NUMA node zero\n2022-12-20 21:15:02.376682: I tensorflow/stream_executor/cuda/cuda_gpu_executor.cc:937] successful NUMA node read from SysFS had negative value (-1), but there must be at least one NUMA node, so returning NUMA node zero\n2022-12-20 21:15:02.377575: I tensorflow/stream_executor/cuda/cuda_gpu_executor.cc:937] successful NUMA node read from SysFS had negative value (-1), but there must be at least one NUMA node, so returning NUMA node zero\n2022-12-20 21:15:02.379539: I tensorflow/core/platform/cpu_feature_guard.cc:142] This TensorFlow binary is optimized with oneAPI Deep Neural Network Library (oneDNN) to use the following CPU instructions in performance-critical operations:  AVX2 AVX512F FMA\nTo enable them in other operations, rebuild TensorFlow with the appropriate compiler flags.\n2022-12-20 21:15:02.379911: I tensorflow/stream_executor/cuda/cuda_gpu_executor.cc:937] successful NUMA node read from SysFS had negative value (-1), but there must be at least one NUMA node, so returning NUMA node zero\n2022-12-20 21:15:02.380688: I tensorflow/stream_executor/cuda/cuda_gpu_executor.cc:937] successful NUMA node read from SysFS had negative value (-1), but there must be at least one NUMA node, so returning NUMA node zero\n2022-12-20 21:15:02.381481: I tensorflow/stream_executor/cuda/cuda_gpu_executor.cc:937] successful NUMA node read from SysFS had negative value (-1), but there must be at least one NUMA node, so returning NUMA node zero\n2022-12-20 21:15:04.913709: I tensorflow/stream_executor/cuda/cuda_gpu_executor.cc:937] successful NUMA node read from SysFS had negative value (-1), but there must be at least one NUMA node, so returning NUMA node zero\n2022-12-20 21:15:04.914584: I tensorflow/stream_executor/cuda/cuda_gpu_executor.cc:937] successful NUMA node read from SysFS had negative value (-1), but there must be at least one NUMA node, so returning NUMA node zero\n2022-12-20 21:15:04.915327: I tensorflow/stream_executor/cuda/cuda_gpu_executor.cc:937] successful NUMA node read from SysFS had negative value (-1), but there must be at least one NUMA node, so returning NUMA node zero\n2022-12-20 21:15:04.915972: I tensorflow/core/common_runtime/gpu/gpu_device.cc:1510] Created device /job:localhost/replica:0/task:0/device:GPU:0 with 15401 MB memory:  -> device: 0, name: Tesla P100-PCIE-16GB, pci bus id: 0000:00:04.0, compute capability: 6.0\n",
          "output_type": "stream"
        },
        {
          "name": "stdout",
          "text": "Downloading data from https://storage.googleapis.com/tensorflow/keras-applications/vgg16/vgg16_weights_tf_dim_ordering_tf_kernels_notop.h5\n58892288/58889256 [==============================] - 0s 0us/step\n58900480/58889256 [==============================] - 0s 0us/step\n",
          "output_type": "stream"
        }
      ]
    },
    {
      "cell_type": "code",
      "source": [],
      "metadata": {
        "id": "Mq-ykhcDeo3B"
      },
      "execution_count": null,
      "outputs": []
    },
    {
      "cell_type": "code",
      "source": [
        "for layer in vgg_model.layers[:15]:\n",
        "    layer.trainable = False\n",
        "x = vgg_model.output\n",
        "x = Flatten()(x) # Flatten dimensions to for use in FC layers\n",
        "x = Dense(1072, activation='relu')(x)\n",
        "x = Dense(256, activation='relu')(x)\n",
        "x = Dropout(0.8)(x) # Dropout layer to reduce overfitting\n",
        "x = Dense(1, activation='sigmoid')(x)\n",
        "x = Dropout(0.3)(x) # Dropout layer to reduce overfitting\n",
        "transfer_model = Model(inputs=vgg_model.input, outputs=x)\n",
        "for i, layer in enumerate(transfer_model.layers):\n",
        "    print(i, layer.name, layer.trainable)"
      ],
      "metadata": {
        "execution": {
          "iopub.status.busy": "2022-12-20T21:28:34.677964Z",
          "iopub.execute_input": "2022-12-20T21:28:34.678712Z",
          "iopub.status.idle": "2022-12-20T21:28:34.723454Z",
          "shell.execute_reply.started": "2022-12-20T21:28:34.678674Z",
          "shell.execute_reply": "2022-12-20T21:28:34.722253Z"
        },
        "trusted": true,
        "id": "ejPlwYpHeo3B",
        "outputId": "6e67e36f-b7f0-4784-afcf-3dc9662de530"
      },
      "execution_count": null,
      "outputs": [
        {
          "name": "stdout",
          "text": "0 input_1 False\n1 block1_conv1 False\n2 block1_conv2 False\n3 block1_pool False\n4 block2_conv1 False\n5 block2_conv2 False\n6 block2_pool False\n7 block3_conv1 False\n8 block3_conv2 False\n9 block3_conv3 False\n10 block3_pool False\n11 block4_conv1 False\n12 block4_conv2 False\n13 block4_conv3 False\n14 block4_pool False\n15 block5_conv1 True\n16 block5_conv2 True\n17 block5_conv3 True\n18 block5_pool True\n19 flatten_4 True\n20 dense_13 True\n21 dense_14 True\n22 dropout_3 True\n23 dense_15 True\n24 dropout_4 True\n",
          "output_type": "stream"
        }
      ]
    },
    {
      "cell_type": "code",
      "source": [
        "for layer in vgg_model.layers[:7]:\n",
        "    layer.trainable = False\n",
        "x = vgg_model.output\n",
        "x = Flatten()(x) # Flatten dimensions to for use in FC layers\n",
        "x = Dense(512, activation='relu')(x)\n",
        "x = Dense(420, activation='relu')(x)\n",
        "x = Dense(256, activation='relu')(x)\n",
        "x = Dense(128, activation='relu')(x)\n",
        "x = Dense(64, activation='relu')(x)\n",
        "x = Dense(32, activation='relu')(x)\n",
        "x = Dense(16, activation='relu')(x)\n",
        "x = Dense(8, activation='relu')(x)\n",
        "x = Dropout(0.5)(x) # Dropout layer to reduce overfitting\n",
        "x = Dense(1, activation='sigmoid')(x)\n",
        "transfer_model = Model(inputs=vgg_model.input, outputs=x)\n",
        "for i, layer in enumerate(transfer_model.layers):\n",
        "    print(i, layer.name, layer.trainable)"
      ],
      "metadata": {
        "execution": {
          "iopub.status.busy": "2022-12-20T21:31:29.849423Z",
          "iopub.execute_input": "2022-12-20T21:31:29.849802Z",
          "iopub.status.idle": "2022-12-20T21:31:29.927476Z",
          "shell.execute_reply.started": "2022-12-20T21:31:29.849770Z",
          "shell.execute_reply": "2022-12-20T21:31:29.926285Z"
        },
        "trusted": true,
        "id": "Rp0kJkPReo3C",
        "outputId": "4418edd7-88b5-457d-efcd-db8dcfebfccd"
      },
      "execution_count": null,
      "outputs": [
        {
          "name": "stdout",
          "text": "0 input_1 False\n1 block1_conv1 False\n2 block1_conv2 False\n3 block1_pool False\n4 block2_conv1 False\n5 block2_conv2 False\n6 block2_pool False\n7 block3_conv1 False\n8 block3_conv2 False\n9 block3_conv3 False\n10 block3_pool False\n11 block4_conv1 False\n12 block4_conv2 False\n13 block4_conv3 False\n14 block4_pool False\n15 block5_conv1 True\n16 block5_conv2 True\n17 block5_conv3 True\n18 block5_pool True\n19 flatten_7 True\n20 dense_26 True\n21 dense_27 True\n22 dense_28 True\n23 dense_29 True\n24 dense_30 True\n25 dense_31 True\n26 dense_32 True\n27 dense_33 True\n28 dropout_7 True\n29 dense_34 True\n",
          "output_type": "stream"
        }
      ]
    },
    {
      "cell_type": "code",
      "source": [
        "lr_reduce = ReduceLROnPlateau(monitor='val_accuracy', factor=0.6, patience=3, verbose=1, mode='max', min_lr=5e-5)\n",
        "checkpoint = ModelCheckpoint('vgg16_finetune.h15', monitor= 'val_accuracy', mode= 'max', save_best_only = True, verbose= 1)\n",
        "ck=[lr_reduce,checkpoint]"
      ],
      "metadata": {
        "execution": {
          "iopub.status.busy": "2022-12-20T21:28:43.153807Z",
          "iopub.execute_input": "2022-12-20T21:28:43.154991Z",
          "iopub.status.idle": "2022-12-20T21:28:43.162813Z",
          "shell.execute_reply.started": "2022-12-20T21:28:43.154931Z",
          "shell.execute_reply": "2022-12-20T21:28:43.161860Z"
        },
        "trusted": true,
        "id": "Bw1EFijCeo3C"
      },
      "execution_count": null,
      "outputs": []
    },
    {
      "cell_type": "code",
      "source": [
        "from tensorflow.keras import layers, models, Model, optimizers\n",
        "learning_rate= 5e-5\n",
        "transfer_model.compile(loss=\"binary_crossentropy\", optimizer=optimizers.Adam(lr=learning_rate), metrics=[\"accuracy\"])\n",
        "history = transfer_model.fit_generator(train_generator,epochs=30,verbose=1, validation_data=(validation_generator), callbacks=ck)"
      ],
      "metadata": {
        "execution": {
          "iopub.status.busy": "2022-12-20T21:31:32.440874Z",
          "iopub.execute_input": "2022-12-20T21:31:32.441466Z"
        },
        "trusted": true,
        "id": "LInNKEcHeo3C"
      },
      "execution_count": null,
      "outputs": []
    }
  ]
}